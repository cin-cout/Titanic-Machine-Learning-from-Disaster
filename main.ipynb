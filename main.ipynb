{
  "cells": [
    {
      "cell_type": "markdown",
      "metadata": {
        "id": "xjR8_Xieeg-2"
      },
      "source": [
        "# Titanic - Machine Learning from Disaster\n",
        "\n",
        "使用 [Kaggle Titanic](https://www.kaggle.com/c/titanic/overview) 所提供的資料，根據鐵達尼號乘客資料預測生還者。\n",
        "我們只使用 `train.csv` 進行生還者預測（只有 `train.csv` 才有答案），而加分題需要額外使用 `test.csv` 並提交至 [Kaggle Titanic](https://www.kaggle.com/c/titanic/overview) 進行評分。\n",
        "\n",
        "需要先學習[程式教材](https://github.com/IKMLab/course_material)中的以下部份：\n",
        "\n",
        "- [jupyter-基本功能](https://github.com/IKMLab/course_material/blob/master/jupyter-%E5%9F%BA%E6%9C%AC%E5%8A%9F%E8%83%BD.ipynb)\n",
        "- [python-入門語法](https://github.com/IKMLab/course_material/blob/master/python-%E5%85%A5%E9%96%80%E8%AA%9E%E6%B3%95.ipynb)\n",
        "- [numpy-基本功能](https://github.com/IKMLab/course_material/blob/master/numpy-%E5%9F%BA%E6%9C%AC%E5%8A%9F%E8%83%BD.ipynb)\n",
        "- [pandas-基本功能](https://github.com/IKMLab/course_material/blob/master/pandas-%E5%9F%BA%E6%9C%AC%E5%8A%9F%E8%83%BD.ipynb)\n",
        "- [matplotlib-資料視覺化](https://github.com/IKMLab/course_material/blob/master/matplotlib-%E8%B3%87%E6%96%99%E8%A6%96%E8%A6%BA%E5%8C%96.ipynb)\n",
        "- [scikit-learn-基本功能](https://github.com/IKMLab/course_material/blob/master/scikit-learn-%E5%9F%BA%E6%9C%AC%E5%8A%9F%E8%83%BD.ipynb)"
      ]
    },
    {
      "cell_type": "markdown",
      "metadata": {
        "id": "qzxZN4gUeg-6"
      },
      "source": [
        "## 環境\n",
        "\n",
        "請填寫當前執行使用的環境。\n",
        "\n",
        "|環境|名稱|版本|\n",
        "|-|-|-|\n",
        "|作業系統|Colab||\n",
        "|程式執行環境|Colab||\n",
        "|python 版本|python3|3.7.13|\n",
        "|安裝環境|pip|21.1.3|"
      ]
    },
    {
      "cell_type": "code",
      "execution_count": 97,
      "metadata": {
        "colab": {
          "base_uri": "https://localhost:8080/"
        },
        "id": "cCacpR5qgxPB",
        "outputId": "dc6fcdaf-ba66-44ba-cd5f-5683f3baaee1"
      },
      "outputs": [
        {
          "name": "stdout",
          "output_type": "stream",
          "text": [
            "Python 3.7.13\n",
            "pip 21.1.3 from /usr/local/lib/python3.7/dist-packages/pip (python 3.7)\n"
          ]
        }
      ],
      "source": [
        "!python --version\n",
        "!pip --version"
      ]
    },
    {
      "cell_type": "markdown",
      "metadata": {
        "id": "SZIkS8A_eg-6"
      },
      "source": [
        "## 安裝\n",
        "\n",
        "請填寫安裝套件需要的指令\n",
        "\n",
        "```sh\n",
        "pip install -r requirements.txt\n",
        "```"
      ]
    },
    {
      "cell_type": "markdown",
      "metadata": {
        "id": "sO0Vo7-5eg-7"
      },
      "source": [
        "## 計算資源\n",
        "\n",
        "請填寫執行程式所需要的計算資源，請確保所有資源限制在單一個人桌上型電腦且能夠以總市價低於 5 萬的手段取得。\n",
        "\n",
        "|計算資源|答案|\n",
        "|-|-|\n",
        "|使用 CPU 核心數|Colab|\n",
        "|記憶體需求|Colab|\n",
        "|有無使用 GPU|無|\n",
        "|GPU 版本|無|\n",
        "|GPU 記憶體需求|無|"
      ]
    },
    {
      "cell_type": "markdown",
      "metadata": {
        "id": "LJMp-aloeg-7"
      },
      "source": [
        "## 參考連結\n",
        "\n",
        "- 有無參考他人之實驗結果：有\n",
        "- 參考連結：\n",
        "\n",
        "  https://yulongtsai.medium.com/https-medium-com-yulongtsai-titanic-top3-8e64741cc11f\n",
        "\n",
        "  https://colab.research.google.com/github/AI-FREE-Team/Data-Analytics-in-Practice-Titanic/blob/master/Data%20Analytics%20in%20Practice%20-%20Titanic%20Survival%20Prediction.ipynb\n",
        "\n",
        "  https://www.kaggle.com/konstantinmasich/titanic-0-82-0-83/\n",
        "\n",
        "  https://yulongtsai.medium.com/https-medium-com-yulongtsai-titanic-top3-8e64741cc11f\n",
        "\n",
        "  https://www.kaggle.com/dantefilu/keras-neural-network-a-hitchhiker-s-guide-to-nn\n",
        "\n",
        "  https://www.kaggle.com/vaishvik25/titanic-eda-fe-3-model-decision-tree-viz\n",
        "\n",
        "  https://www.kaggle.com/gunesevitan/titanic-advanced-feature-engineering-tutorial\n",
        "\n",
        "  https://www.kaggle.com/pliptor/divide-and-conquer-0-82296\n",
        "\n",
        "  https://www.kaggle.com/ylt0609/recursive-forward-elimination-workflow-to-0-82296\n",
        "  "
      ]
    },
    {
      "cell_type": "code",
      "execution_count": 98,
      "metadata": {
        "id": "o498D0NHeg-7"
      },
      "outputs": [],
      "source": [
        "# 請勿更動此區塊程式碼\n",
        "\n",
        "import time\n",
        "import numpy as np\n",
        "import pandas as pd\n",
        "\n",
        "EXECUTION_START_TIME = time.time() # 計算執行時間\n",
        "\n",
        "df = pd.read_csv('train.csv')      # 讀取資料，請勿更改路徑"
      ]
    },
    {
      "cell_type": "code",
      "execution_count": 99,
      "metadata": {
        "id": "CG3ZlJOij0j2"
      },
      "outputs": [],
      "source": [
        "df_test = pd.read_csv(\"test.csv\") #把test的數據一起拿進來，一起進行資料處理，在填補資料時會更準確\n",
        "df_data = df.append(df_test) #合併成一個完整資料集"
      ]
    },
    {
      "cell_type": "markdown",
      "metadata": {
        "id": "-rCZSrNceg-9"
      },
      "source": [
        "## 資料分析與前處理\n",
        "\n",
        "請在此區塊後使用**一個或多個區塊**進行資料分析與前處理，項目可以包含：\n",
        "\n",
        "- 資料視覺化\n",
        "- 相關係數\n",
        "- 決定輸入特徵\n",
        "- 處理缺失值\n",
        "- 轉換數值\n",
        "- 轉換類別\n",
        "- 其他\n",
        "\n",
        "請以 `markdown` 簡單描述**流程**、**方法**與**原因**：\n",
        "\n",
        "1. 觀察...，發現...\n",
        "2. 填補...，策略...\n",
        "3. 轉換...，原因..."
      ]
    },
    {
      "cell_type": "markdown",
      "metadata": {
        "id": "HfdNmIrKjJeg"
      },
      "source": [
        "#觀察資料\n",
        "\n",
        "首先列出train.csv中的資料，分別有：\n",
        "1. PassengerId　(乘客編號)\n",
        "2. Survived (是否存活)\n",
        "3. Pclass (艙等)\n",
        "4. Name　(姓名)\n",
        "5. Sex (性別)\n",
        "6. Age (年齡)\n",
        "7. SibSp (兄弟姊妹、配偶人數)\n",
        "8. Parch (父母子女人數)\n",
        "9. Ticket (船票號碼)\n",
        "10. Fare (票價)\n",
        "11. Cabin (船艙號碼)\n",
        "12. Embarked (登記港口)\n",
        "\n",
        "觀看這些資料後可初步判斷：\n",
        "\n",
        "- 初步判斷PassengerId、Name、Ticket、Embarked可能為無相關資料\n",
        "\n",
        "使用pd函式來做train.csv資料的統計：\n",
        "\n",
        "- 可以發現有int64、float64、object三種型態\n",
        "\n",
        "- 在Age、Fare、Cabin、Embarked部分資料有缺失\n"
      ]
    },
    {
      "cell_type": "code",
      "execution_count": 100,
      "metadata": {
        "colab": {
          "base_uri": "https://localhost:8080/",
          "height": 589
        },
        "id": "TK2GdG47kP_M",
        "outputId": "b1fb20fd-c8de-441a-ae01-08c33c908790"
      },
      "outputs": [
        {
          "name": "stdout",
          "output_type": "stream",
          "text": [
            "             null\n",
            "PassengerId     0\n",
            "Survived      418\n",
            "Pclass          0\n",
            "Name            0\n",
            "Sex             0\n",
            "Age           263\n",
            "SibSp           0\n",
            "Parch           0\n",
            "Ticket          0\n",
            "Fare            1\n",
            "Cabin        1014\n",
            "Embarked        2\n"
          ]
        },
        {
          "data": {
            "text/html": [
              "\n",
              "  <div id=\"df-07ff92f1-aa82-4d11-8778-e0b8860528cb\">\n",
              "    <div class=\"colab-df-container\">\n",
              "      <div>\n",
              "<style scoped>\n",
              "    .dataframe tbody tr th:only-of-type {\n",
              "        vertical-align: middle;\n",
              "    }\n",
              "\n",
              "    .dataframe tbody tr th {\n",
              "        vertical-align: top;\n",
              "    }\n",
              "\n",
              "    .dataframe thead th {\n",
              "        text-align: right;\n",
              "    }\n",
              "</style>\n",
              "<table border=\"1\" class=\"dataframe\">\n",
              "  <thead>\n",
              "    <tr style=\"text-align: right;\">\n",
              "      <th></th>\n",
              "      <th>PassengerId</th>\n",
              "      <th>Survived</th>\n",
              "      <th>Pclass</th>\n",
              "      <th>Name</th>\n",
              "      <th>Sex</th>\n",
              "      <th>Age</th>\n",
              "      <th>SibSp</th>\n",
              "      <th>Parch</th>\n",
              "      <th>Ticket</th>\n",
              "      <th>Fare</th>\n",
              "      <th>Cabin</th>\n",
              "      <th>Embarked</th>\n",
              "    </tr>\n",
              "  </thead>\n",
              "  <tbody>\n",
              "    <tr>\n",
              "      <th>0</th>\n",
              "      <td>1</td>\n",
              "      <td>0.0</td>\n",
              "      <td>3</td>\n",
              "      <td>Braund, Mr. Owen Harris</td>\n",
              "      <td>male</td>\n",
              "      <td>22.0</td>\n",
              "      <td>1</td>\n",
              "      <td>0</td>\n",
              "      <td>A/5 21171</td>\n",
              "      <td>7.2500</td>\n",
              "      <td>NaN</td>\n",
              "      <td>S</td>\n",
              "    </tr>\n",
              "    <tr>\n",
              "      <th>1</th>\n",
              "      <td>2</td>\n",
              "      <td>1.0</td>\n",
              "      <td>1</td>\n",
              "      <td>Cumings, Mrs. John Bradley (Florence Briggs Th...</td>\n",
              "      <td>female</td>\n",
              "      <td>38.0</td>\n",
              "      <td>1</td>\n",
              "      <td>0</td>\n",
              "      <td>PC 17599</td>\n",
              "      <td>71.2833</td>\n",
              "      <td>C85</td>\n",
              "      <td>C</td>\n",
              "    </tr>\n",
              "    <tr>\n",
              "      <th>2</th>\n",
              "      <td>3</td>\n",
              "      <td>1.0</td>\n",
              "      <td>3</td>\n",
              "      <td>Heikkinen, Miss. Laina</td>\n",
              "      <td>female</td>\n",
              "      <td>26.0</td>\n",
              "      <td>0</td>\n",
              "      <td>0</td>\n",
              "      <td>STON/O2. 3101282</td>\n",
              "      <td>7.9250</td>\n",
              "      <td>NaN</td>\n",
              "      <td>S</td>\n",
              "    </tr>\n",
              "    <tr>\n",
              "      <th>3</th>\n",
              "      <td>4</td>\n",
              "      <td>1.0</td>\n",
              "      <td>1</td>\n",
              "      <td>Futrelle, Mrs. Jacques Heath (Lily May Peel)</td>\n",
              "      <td>female</td>\n",
              "      <td>35.0</td>\n",
              "      <td>1</td>\n",
              "      <td>0</td>\n",
              "      <td>113803</td>\n",
              "      <td>53.1000</td>\n",
              "      <td>C123</td>\n",
              "      <td>S</td>\n",
              "    </tr>\n",
              "    <tr>\n",
              "      <th>4</th>\n",
              "      <td>5</td>\n",
              "      <td>0.0</td>\n",
              "      <td>3</td>\n",
              "      <td>Allen, Mr. William Henry</td>\n",
              "      <td>male</td>\n",
              "      <td>35.0</td>\n",
              "      <td>0</td>\n",
              "      <td>0</td>\n",
              "      <td>373450</td>\n",
              "      <td>8.0500</td>\n",
              "      <td>NaN</td>\n",
              "      <td>S</td>\n",
              "    </tr>\n",
              "    <tr>\n",
              "      <th>5</th>\n",
              "      <td>6</td>\n",
              "      <td>0.0</td>\n",
              "      <td>3</td>\n",
              "      <td>Moran, Mr. James</td>\n",
              "      <td>male</td>\n",
              "      <td>NaN</td>\n",
              "      <td>0</td>\n",
              "      <td>0</td>\n",
              "      <td>330877</td>\n",
              "      <td>8.4583</td>\n",
              "      <td>NaN</td>\n",
              "      <td>Q</td>\n",
              "    </tr>\n",
              "    <tr>\n",
              "      <th>6</th>\n",
              "      <td>7</td>\n",
              "      <td>0.0</td>\n",
              "      <td>1</td>\n",
              "      <td>McCarthy, Mr. Timothy J</td>\n",
              "      <td>male</td>\n",
              "      <td>54.0</td>\n",
              "      <td>0</td>\n",
              "      <td>0</td>\n",
              "      <td>17463</td>\n",
              "      <td>51.8625</td>\n",
              "      <td>E46</td>\n",
              "      <td>S</td>\n",
              "    </tr>\n",
              "    <tr>\n",
              "      <th>7</th>\n",
              "      <td>8</td>\n",
              "      <td>0.0</td>\n",
              "      <td>3</td>\n",
              "      <td>Palsson, Master. Gosta Leonard</td>\n",
              "      <td>male</td>\n",
              "      <td>2.0</td>\n",
              "      <td>3</td>\n",
              "      <td>1</td>\n",
              "      <td>349909</td>\n",
              "      <td>21.0750</td>\n",
              "      <td>NaN</td>\n",
              "      <td>S</td>\n",
              "    </tr>\n",
              "    <tr>\n",
              "      <th>8</th>\n",
              "      <td>9</td>\n",
              "      <td>1.0</td>\n",
              "      <td>3</td>\n",
              "      <td>Johnson, Mrs. Oscar W (Elisabeth Vilhelmina Berg)</td>\n",
              "      <td>female</td>\n",
              "      <td>27.0</td>\n",
              "      <td>0</td>\n",
              "      <td>2</td>\n",
              "      <td>347742</td>\n",
              "      <td>11.1333</td>\n",
              "      <td>NaN</td>\n",
              "      <td>S</td>\n",
              "    </tr>\n",
              "    <tr>\n",
              "      <th>9</th>\n",
              "      <td>10</td>\n",
              "      <td>1.0</td>\n",
              "      <td>2</td>\n",
              "      <td>Nasser, Mrs. Nicholas (Adele Achem)</td>\n",
              "      <td>female</td>\n",
              "      <td>14.0</td>\n",
              "      <td>1</td>\n",
              "      <td>0</td>\n",
              "      <td>237736</td>\n",
              "      <td>30.0708</td>\n",
              "      <td>NaN</td>\n",
              "      <td>C</td>\n",
              "    </tr>\n",
              "  </tbody>\n",
              "</table>\n",
              "</div>\n",
              "      <button class=\"colab-df-convert\" onclick=\"convertToInteractive('df-07ff92f1-aa82-4d11-8778-e0b8860528cb')\"\n",
              "              title=\"Convert this dataframe to an interactive table.\"\n",
              "              style=\"display:none;\">\n",
              "        \n",
              "  <svg xmlns=\"http://www.w3.org/2000/svg\" height=\"24px\"viewBox=\"0 0 24 24\"\n",
              "       width=\"24px\">\n",
              "    <path d=\"M0 0h24v24H0V0z\" fill=\"none\"/>\n",
              "    <path d=\"M18.56 5.44l.94 2.06.94-2.06 2.06-.94-2.06-.94-.94-2.06-.94 2.06-2.06.94zm-11 1L8.5 8.5l.94-2.06 2.06-.94-2.06-.94L8.5 2.5l-.94 2.06-2.06.94zm10 10l.94 2.06.94-2.06 2.06-.94-2.06-.94-.94-2.06-.94 2.06-2.06.94z\"/><path d=\"M17.41 7.96l-1.37-1.37c-.4-.4-.92-.59-1.43-.59-.52 0-1.04.2-1.43.59L10.3 9.45l-7.72 7.72c-.78.78-.78 2.05 0 2.83L4 21.41c.39.39.9.59 1.41.59.51 0 1.02-.2 1.41-.59l7.78-7.78 2.81-2.81c.8-.78.8-2.07 0-2.86zM5.41 20L4 18.59l7.72-7.72 1.47 1.35L5.41 20z\"/>\n",
              "  </svg>\n",
              "      </button>\n",
              "      \n",
              "  <style>\n",
              "    .colab-df-container {\n",
              "      display:flex;\n",
              "      flex-wrap:wrap;\n",
              "      gap: 12px;\n",
              "    }\n",
              "\n",
              "    .colab-df-convert {\n",
              "      background-color: #E8F0FE;\n",
              "      border: none;\n",
              "      border-radius: 50%;\n",
              "      cursor: pointer;\n",
              "      display: none;\n",
              "      fill: #1967D2;\n",
              "      height: 32px;\n",
              "      padding: 0 0 0 0;\n",
              "      width: 32px;\n",
              "    }\n",
              "\n",
              "    .colab-df-convert:hover {\n",
              "      background-color: #E2EBFA;\n",
              "      box-shadow: 0px 1px 2px rgba(60, 64, 67, 0.3), 0px 1px 3px 1px rgba(60, 64, 67, 0.15);\n",
              "      fill: #174EA6;\n",
              "    }\n",
              "\n",
              "    [theme=dark] .colab-df-convert {\n",
              "      background-color: #3B4455;\n",
              "      fill: #D2E3FC;\n",
              "    }\n",
              "\n",
              "    [theme=dark] .colab-df-convert:hover {\n",
              "      background-color: #434B5C;\n",
              "      box-shadow: 0px 1px 3px 1px rgba(0, 0, 0, 0.15);\n",
              "      filter: drop-shadow(0px 1px 2px rgba(0, 0, 0, 0.3));\n",
              "      fill: #FFFFFF;\n",
              "    }\n",
              "  </style>\n",
              "\n",
              "      <script>\n",
              "        const buttonEl =\n",
              "          document.querySelector('#df-07ff92f1-aa82-4d11-8778-e0b8860528cb button.colab-df-convert');\n",
              "        buttonEl.style.display =\n",
              "          google.colab.kernel.accessAllowed ? 'block' : 'none';\n",
              "\n",
              "        async function convertToInteractive(key) {\n",
              "          const element = document.querySelector('#df-07ff92f1-aa82-4d11-8778-e0b8860528cb');\n",
              "          const dataTable =\n",
              "            await google.colab.kernel.invokeFunction('convertToInteractive',\n",
              "                                                     [key], {});\n",
              "          if (!dataTable) return;\n",
              "\n",
              "          const docLinkHtml = 'Like what you see? Visit the ' +\n",
              "            '<a target=\"_blank\" href=https://colab.research.google.com/notebooks/data_table.ipynb>data table notebook</a>'\n",
              "            + ' to learn more about interactive tables.';\n",
              "          element.innerHTML = '';\n",
              "          dataTable['output_type'] = 'display_data';\n",
              "          await google.colab.output.renderOutput(dataTable, element);\n",
              "          const docLink = document.createElement('div');\n",
              "          docLink.innerHTML = docLinkHtml;\n",
              "          element.appendChild(docLink);\n",
              "        }\n",
              "      </script>\n",
              "    </div>\n",
              "  </div>\n",
              "  "
            ],
            "text/plain": [
              "   PassengerId  Survived  Pclass  \\\n",
              "0            1       0.0       3   \n",
              "1            2       1.0       1   \n",
              "2            3       1.0       3   \n",
              "3            4       1.0       1   \n",
              "4            5       0.0       3   \n",
              "5            6       0.0       3   \n",
              "6            7       0.0       1   \n",
              "7            8       0.0       3   \n",
              "8            9       1.0       3   \n",
              "9           10       1.0       2   \n",
              "\n",
              "                                                Name     Sex   Age  SibSp  \\\n",
              "0                            Braund, Mr. Owen Harris    male  22.0      1   \n",
              "1  Cumings, Mrs. John Bradley (Florence Briggs Th...  female  38.0      1   \n",
              "2                             Heikkinen, Miss. Laina  female  26.0      0   \n",
              "3       Futrelle, Mrs. Jacques Heath (Lily May Peel)  female  35.0      1   \n",
              "4                           Allen, Mr. William Henry    male  35.0      0   \n",
              "5                                   Moran, Mr. James    male   NaN      0   \n",
              "6                            McCarthy, Mr. Timothy J    male  54.0      0   \n",
              "7                     Palsson, Master. Gosta Leonard    male   2.0      3   \n",
              "8  Johnson, Mrs. Oscar W (Elisabeth Vilhelmina Berg)  female  27.0      0   \n",
              "9                Nasser, Mrs. Nicholas (Adele Achem)  female  14.0      1   \n",
              "\n",
              "   Parch            Ticket     Fare Cabin Embarked  \n",
              "0      0         A/5 21171   7.2500   NaN        S  \n",
              "1      0          PC 17599  71.2833   C85        C  \n",
              "2      0  STON/O2. 3101282   7.9250   NaN        S  \n",
              "3      0            113803  53.1000  C123        S  \n",
              "4      0            373450   8.0500   NaN        S  \n",
              "5      0            330877   8.4583   NaN        Q  \n",
              "6      0             17463  51.8625   E46        S  \n",
              "7      1            349909  21.0750   NaN        S  \n",
              "8      2            347742  11.1333   NaN        S  \n",
              "9      0            237736  30.0708   NaN        C  "
            ]
          },
          "execution_count": 100,
          "metadata": {},
          "output_type": "execute_result"
        }
      ],
      "source": [
        "print(pd.DataFrame({'null': df_data.isnull().sum()}))\n",
        "df_data.head(10)"
      ]
    },
    {
      "cell_type": "markdown",
      "metadata": {
        "id": "umByjBndqkxW"
      },
      "source": [
        "#資料分析\n",
        "\n",
        "- 利用describe( )函數得到各數值型態欄位的統計量\n",
        "  - 觀察欄位的scale是否相似、以及資料分布是否有離群值，可幫助後續資料處理\n",
        "- 將各欄位資料做初步視覺化分析\n"
      ]
    },
    {
      "cell_type": "code",
      "execution_count": 101,
      "metadata": {
        "colab": {
          "base_uri": "https://localhost:8080/",
          "height": 300
        },
        "id": "69gJQpVZmnmn",
        "outputId": "26b012da-a137-42bf-ce84-8ee826d6c807"
      },
      "outputs": [
        {
          "data": {
            "text/html": [
              "\n",
              "  <div id=\"df-25e78ef1-e0f1-4a7a-abd7-c4a6fc44af3c\">\n",
              "    <div class=\"colab-df-container\">\n",
              "      <div>\n",
              "<style scoped>\n",
              "    .dataframe tbody tr th:only-of-type {\n",
              "        vertical-align: middle;\n",
              "    }\n",
              "\n",
              "    .dataframe tbody tr th {\n",
              "        vertical-align: top;\n",
              "    }\n",
              "\n",
              "    .dataframe thead th {\n",
              "        text-align: right;\n",
              "    }\n",
              "</style>\n",
              "<table border=\"1\" class=\"dataframe\">\n",
              "  <thead>\n",
              "    <tr style=\"text-align: right;\">\n",
              "      <th></th>\n",
              "      <th>PassengerId</th>\n",
              "      <th>Survived</th>\n",
              "      <th>Pclass</th>\n",
              "      <th>Age</th>\n",
              "      <th>SibSp</th>\n",
              "      <th>Parch</th>\n",
              "      <th>Fare</th>\n",
              "    </tr>\n",
              "  </thead>\n",
              "  <tbody>\n",
              "    <tr>\n",
              "      <th>count</th>\n",
              "      <td>1309.000000</td>\n",
              "      <td>891.000000</td>\n",
              "      <td>1309.000000</td>\n",
              "      <td>1046.000000</td>\n",
              "      <td>1309.000000</td>\n",
              "      <td>1309.000000</td>\n",
              "      <td>1308.000000</td>\n",
              "    </tr>\n",
              "    <tr>\n",
              "      <th>mean</th>\n",
              "      <td>655.000000</td>\n",
              "      <td>0.383838</td>\n",
              "      <td>2.294882</td>\n",
              "      <td>29.881138</td>\n",
              "      <td>0.498854</td>\n",
              "      <td>0.385027</td>\n",
              "      <td>33.295479</td>\n",
              "    </tr>\n",
              "    <tr>\n",
              "      <th>std</th>\n",
              "      <td>378.020061</td>\n",
              "      <td>0.486592</td>\n",
              "      <td>0.837836</td>\n",
              "      <td>14.413493</td>\n",
              "      <td>1.041658</td>\n",
              "      <td>0.865560</td>\n",
              "      <td>51.758668</td>\n",
              "    </tr>\n",
              "    <tr>\n",
              "      <th>min</th>\n",
              "      <td>1.000000</td>\n",
              "      <td>0.000000</td>\n",
              "      <td>1.000000</td>\n",
              "      <td>0.170000</td>\n",
              "      <td>0.000000</td>\n",
              "      <td>0.000000</td>\n",
              "      <td>0.000000</td>\n",
              "    </tr>\n",
              "    <tr>\n",
              "      <th>25%</th>\n",
              "      <td>328.000000</td>\n",
              "      <td>0.000000</td>\n",
              "      <td>2.000000</td>\n",
              "      <td>21.000000</td>\n",
              "      <td>0.000000</td>\n",
              "      <td>0.000000</td>\n",
              "      <td>7.895800</td>\n",
              "    </tr>\n",
              "    <tr>\n",
              "      <th>50%</th>\n",
              "      <td>655.000000</td>\n",
              "      <td>0.000000</td>\n",
              "      <td>3.000000</td>\n",
              "      <td>28.000000</td>\n",
              "      <td>0.000000</td>\n",
              "      <td>0.000000</td>\n",
              "      <td>14.454200</td>\n",
              "    </tr>\n",
              "    <tr>\n",
              "      <th>75%</th>\n",
              "      <td>982.000000</td>\n",
              "      <td>1.000000</td>\n",
              "      <td>3.000000</td>\n",
              "      <td>39.000000</td>\n",
              "      <td>1.000000</td>\n",
              "      <td>0.000000</td>\n",
              "      <td>31.275000</td>\n",
              "    </tr>\n",
              "    <tr>\n",
              "      <th>max</th>\n",
              "      <td>1309.000000</td>\n",
              "      <td>1.000000</td>\n",
              "      <td>3.000000</td>\n",
              "      <td>80.000000</td>\n",
              "      <td>8.000000</td>\n",
              "      <td>9.000000</td>\n",
              "      <td>512.329200</td>\n",
              "    </tr>\n",
              "  </tbody>\n",
              "</table>\n",
              "</div>\n",
              "      <button class=\"colab-df-convert\" onclick=\"convertToInteractive('df-25e78ef1-e0f1-4a7a-abd7-c4a6fc44af3c')\"\n",
              "              title=\"Convert this dataframe to an interactive table.\"\n",
              "              style=\"display:none;\">\n",
              "        \n",
              "  <svg xmlns=\"http://www.w3.org/2000/svg\" height=\"24px\"viewBox=\"0 0 24 24\"\n",
              "       width=\"24px\">\n",
              "    <path d=\"M0 0h24v24H0V0z\" fill=\"none\"/>\n",
              "    <path d=\"M18.56 5.44l.94 2.06.94-2.06 2.06-.94-2.06-.94-.94-2.06-.94 2.06-2.06.94zm-11 1L8.5 8.5l.94-2.06 2.06-.94-2.06-.94L8.5 2.5l-.94 2.06-2.06.94zm10 10l.94 2.06.94-2.06 2.06-.94-2.06-.94-.94-2.06-.94 2.06-2.06.94z\"/><path d=\"M17.41 7.96l-1.37-1.37c-.4-.4-.92-.59-1.43-.59-.52 0-1.04.2-1.43.59L10.3 9.45l-7.72 7.72c-.78.78-.78 2.05 0 2.83L4 21.41c.39.39.9.59 1.41.59.51 0 1.02-.2 1.41-.59l7.78-7.78 2.81-2.81c.8-.78.8-2.07 0-2.86zM5.41 20L4 18.59l7.72-7.72 1.47 1.35L5.41 20z\"/>\n",
              "  </svg>\n",
              "      </button>\n",
              "      \n",
              "  <style>\n",
              "    .colab-df-container {\n",
              "      display:flex;\n",
              "      flex-wrap:wrap;\n",
              "      gap: 12px;\n",
              "    }\n",
              "\n",
              "    .colab-df-convert {\n",
              "      background-color: #E8F0FE;\n",
              "      border: none;\n",
              "      border-radius: 50%;\n",
              "      cursor: pointer;\n",
              "      display: none;\n",
              "      fill: #1967D2;\n",
              "      height: 32px;\n",
              "      padding: 0 0 0 0;\n",
              "      width: 32px;\n",
              "    }\n",
              "\n",
              "    .colab-df-convert:hover {\n",
              "      background-color: #E2EBFA;\n",
              "      box-shadow: 0px 1px 2px rgba(60, 64, 67, 0.3), 0px 1px 3px 1px rgba(60, 64, 67, 0.15);\n",
              "      fill: #174EA6;\n",
              "    }\n",
              "\n",
              "    [theme=dark] .colab-df-convert {\n",
              "      background-color: #3B4455;\n",
              "      fill: #D2E3FC;\n",
              "    }\n",
              "\n",
              "    [theme=dark] .colab-df-convert:hover {\n",
              "      background-color: #434B5C;\n",
              "      box-shadow: 0px 1px 3px 1px rgba(0, 0, 0, 0.15);\n",
              "      filter: drop-shadow(0px 1px 2px rgba(0, 0, 0, 0.3));\n",
              "      fill: #FFFFFF;\n",
              "    }\n",
              "  </style>\n",
              "\n",
              "      <script>\n",
              "        const buttonEl =\n",
              "          document.querySelector('#df-25e78ef1-e0f1-4a7a-abd7-c4a6fc44af3c button.colab-df-convert');\n",
              "        buttonEl.style.display =\n",
              "          google.colab.kernel.accessAllowed ? 'block' : 'none';\n",
              "\n",
              "        async function convertToInteractive(key) {\n",
              "          const element = document.querySelector('#df-25e78ef1-e0f1-4a7a-abd7-c4a6fc44af3c');\n",
              "          const dataTable =\n",
              "            await google.colab.kernel.invokeFunction('convertToInteractive',\n",
              "                                                     [key], {});\n",
              "          if (!dataTable) return;\n",
              "\n",
              "          const docLinkHtml = 'Like what you see? Visit the ' +\n",
              "            '<a target=\"_blank\" href=https://colab.research.google.com/notebooks/data_table.ipynb>data table notebook</a>'\n",
              "            + ' to learn more about interactive tables.';\n",
              "          element.innerHTML = '';\n",
              "          dataTable['output_type'] = 'display_data';\n",
              "          await google.colab.output.renderOutput(dataTable, element);\n",
              "          const docLink = document.createElement('div');\n",
              "          docLink.innerHTML = docLinkHtml;\n",
              "          element.appendChild(docLink);\n",
              "        }\n",
              "      </script>\n",
              "    </div>\n",
              "  </div>\n",
              "  "
            ],
            "text/plain": [
              "       PassengerId    Survived       Pclass          Age        SibSp  \\\n",
              "count  1309.000000  891.000000  1309.000000  1046.000000  1309.000000   \n",
              "mean    655.000000    0.383838     2.294882    29.881138     0.498854   \n",
              "std     378.020061    0.486592     0.837836    14.413493     1.041658   \n",
              "min       1.000000    0.000000     1.000000     0.170000     0.000000   \n",
              "25%     328.000000    0.000000     2.000000    21.000000     0.000000   \n",
              "50%     655.000000    0.000000     3.000000    28.000000     0.000000   \n",
              "75%     982.000000    1.000000     3.000000    39.000000     1.000000   \n",
              "max    1309.000000    1.000000     3.000000    80.000000     8.000000   \n",
              "\n",
              "             Parch         Fare  \n",
              "count  1309.000000  1308.000000  \n",
              "mean      0.385027    33.295479  \n",
              "std       0.865560    51.758668  \n",
              "min       0.000000     0.000000  \n",
              "25%       0.000000     7.895800  \n",
              "50%       0.000000    14.454200  \n",
              "75%       0.000000    31.275000  \n",
              "max       9.000000   512.329200  "
            ]
          },
          "metadata": {},
          "output_type": "display_data"
        }
      ],
      "source": [
        "display(df_data.describe())"
      ]
    },
    {
      "cell_type": "markdown",
      "metadata": {
        "id": "jZANoT89pw3j"
      },
      "source": [
        "圖表可看到約只有38.38%的人存活"
      ]
    },
    {
      "cell_type": "code",
      "execution_count": 102,
      "metadata": {
        "colab": {
          "base_uri": "https://localhost:8080/",
          "height": 319
        },
        "id": "K1g71LbnmzSu",
        "outputId": "e1827650-25e2-4bf5-e2fb-d928bb5e3dc7"
      },
      "outputs": [
        {
          "data": {
            "image/png": "[encoded data removed]",
            "text/plain": [
              "<Figure size 720x360 with 1 Axes>"
            ]
          },
          "metadata": {},
          "output_type": "display_data"
        }
      ],
      "source": [
        "# 繪圖相關套件\n",
        "import matplotlib.pyplot as plt\n",
        "%matplotlib inline\n",
        "import matplotlib.gridspec as gridspec\n",
        "import seaborn as sns\n",
        "\n",
        "plt.figure( figsize=(10,5) )\n",
        "df['Survived'].value_counts().plot( kind='pie', autopct='%1.2f%%' )\n",
        "plt.title( 'Survival' )  # 圖標題\n",
        "plt.ylabel( '' )\n",
        "plt.show()"
      ]
    },
    {
      "cell_type": "markdown",
      "metadata": {
        "id": "pGzGxdRmqXm-"
      },
      "source": [
        "先分析較簡單的資料，可看到：\n",
        "- Pclass\n",
        "  - 艙等存活率 1 > 2 > 3 　\n",
        "  - 判斷艙等較高的存活率較高，可能跟社會地位有關\n",
        "- Sex\n",
        "  - 女性存活率較高，應為逃難時女性優先的緣故\n",
        "- SibSp、Parch\n",
        "  - 較多家庭成員的存活率較高，故之後合併此兩個特徵\n",
        "- Embarked\n",
        "  - 存活率 C > Q > S \n",
        "  - 照理來說登船港口應與存活率無關，推測可能是因為不同港口登船的人社會地位不同\n",
        "- Age\n",
        "  - 小孩的存活率較高"
      ]
    },
    {
      "cell_type": "code",
      "execution_count": 103,
      "metadata": {
        "colab": {
          "base_uri": "https://localhost:8080/",
          "height": 1000
        },
        "id": "9UGOmCRnq3zV",
        "outputId": "ab9b7fde-9310-4237-c406-25b6ae40d90b"
      },
      "outputs": [
        {
          "data": {
            "image/png": "[encoded data removed]",
            "text/plain": [
              "<Figure size 720x1800 with 5 Axes>"
            ]
          },
          "metadata": {
            "needs_background": "light"
          },
          "output_type": "display_data"
        }
      ],
      "source": [
        "selected_cols = ['Pclass','Sex','SibSp','Parch','Embarked']\n",
        "\n",
        "plt.figure( figsize=(10,len(selected_cols)*5) )\n",
        "gs = gridspec.GridSpec(len(selected_cols),1)    \n",
        "for i, col in enumerate( df[selected_cols] ) :        \n",
        "  ax = plt.subplot( gs[i] )\n",
        "  sns.countplot( x=df[col], hue=df.Survived, palette=['lightcoral','skyblue'] )\n",
        "  ax.set_yticklabels([])\n",
        "  ax.set_ylabel( 'Counts' )\n",
        "  ax.legend( loc=1 )   # upper right:1 ; upper left:2\n",
        "  for p in ax.patches:\n",
        "    ax.annotate( '{:,}'.format(p.get_height()), (p.get_x(), p.get_height()+1.5) )\n"
      ]
    },
    {
      "cell_type": "code",
      "execution_count": 104,
      "metadata": {
        "colab": {
          "base_uri": "https://localhost:8080/",
          "height": 644
        },
        "id": "Cglb19TJvxZJ",
        "outputId": "a41b8185-508a-407a-b15b-ad1cf1961b66"
      },
      "outputs": [
        {
          "name": "stderr",
          "output_type": "stream",
          "text": [
            "/usr/local/lib/python3.7/dist-packages/seaborn/distributions.py:2619: FutureWarning: `distplot` is a deprecated function and will be removed in a future version. Please adapt your code to use either `displot` (a figure-level function with similar flexibility) or `histplot` (an axes-level function for histograms).\n",
            "  warnings.warn(msg, FutureWarning)\n"
          ]
        },
        {
          "data": {
            "text/plain": [
              "Text(0.5, 1.0, 'Age vs Survived')"
            ]
          },
          "execution_count": 104,
          "metadata": {},
          "output_type": "execute_result"
        },
        {
          "data": {
            "image/png": "[encoded data removed]",
            "text/plain": [
              "<Figure size 1080x648 with 1 Axes>"
            ]
          },
          "metadata": {
            "needs_background": "light"
          },
          "output_type": "display_data"
        }
      ],
      "source": [
        "df_data['Has_Age'] = df_data['Age'].isnull().map(lambda x : 0 if x == True else 1)\n",
        "# Masks\n",
        "Age_Survived = ( (df_data.Has_Age == 1) & (df_data.Survived == 1) )\n",
        "Age_Dead = ( (df_data.Has_Age == 1)  & (df_data.Survived == 0) )\n",
        "# Plot\n",
        "fig, ax = plt.subplots( figsize = (15,9) )\n",
        "ax = sns.distplot(df_data.loc[Age_Survived, 'Age'],kde=False,bins=10,norm_hist=True,label='Survived') \n",
        "ax = sns.distplot(df_data.loc[Age_Dead, 'Age'],kde=False,bins=10,norm_hist=True,label='Dead')\n",
        "ax.legend()\n",
        "ax.set_title('Age vs Survived',fontsize = 20)"
      ]
    },
    {
      "cell_type": "markdown",
      "metadata": {
        "id": "iw_c28Zkx1g-"
      },
      "source": [
        "- 處理缺失值 \n",
        "  - 原本想用最常出現的數值來填補，降低填補錯的可能性\n",
        "  - 後來考慮到缺失的資料Age、Fare較離散，因此改用中位數，以減少誤差\n",
        "  - 最後Age參考其他人做法，使用Title來協助判斷中位數，再度減少誤差\n",
        "  - 也有嘗試使用RandomForestRegressor做Age的填補\n",
        "  - 在Cabin部分因為缺失過多，在觀察資料後發現有Cabin的人生存率較高，因此轉換成有無Cabin的類別特徵\n",
        "  - 在Embarked部分，使用最常出現的S填補\n",
        "- 轉換數值資料\n",
        "  - 將Fare資料依照區間切成4份，使得資料可以提供相關性，同時降低overfitting的可能\n",
        "  - 將Age資料依照區間切成4份，使得資料可以提供相關性，同時降低overfitting的可能\n",
        "  - 同時也有嘗試將Fare、Age資料做標準化，使得大小分布在0~1之間\n",
        "  - 將Family轉換為新特徵，Alone，判斷是否一個人出遊\n",
        "    - 根據前面Family圖表可看出，當個人出遊的時候死亡率較高，2~4人時較低，後續則資料過少無法判斷\n",
        "- 轉換類別資料\n",
        "  - 將Sex換成1、0\n",
        "  - 將Embarked使用熱邊碼分成Q、S、C\n",
        "  - Cabin部分分成有無Cabin\n",
        "- 其他方法 (對資料進行處理，以此創造新特徵)\n",
        "  - 創造Family特徵，為SibSp + Parch + 1 ，合併相近的SibSp、Parch兩種特徵\n",
        "  - 創造Alone特徵，判斷是否1個人，因為獨自1人的存活率較低\n",
        "  - 創造Minor特徵，判斷Age使否小於18 (因為資料分析發現兒童較容易存活)\n",
        "  - 創造Title特徵，大致區分不同稱謂的人\n",
        "  - 創造Connected_Survival特徵\n",
        "    - 根據船票號碼相同來決定是否一群，再根據同一群人中是否有無存活來分成1、0.5、0，分別為有存活、未知、無存活\n",
        "- 計算各欄位資料的相關係數"
      ]
    },
    {
      "cell_type": "code",
      "execution_count": 105,
      "metadata": {
        "id": "EiXfQ8M7KiDw"
      },
      "outputs": [],
      "source": [
        "#轉換性別資料\n",
        "df_data['Sex'] = df_data['Sex'].map({'female' : 1, 'male' : 0}).astype('int')"
      ]
    },
    {
      "cell_type": "code",
      "execution_count": 106,
      "metadata": {
        "id": "U01cL5lcKYVp"
      },
      "outputs": [],
      "source": [
        "#填補Embarked\n",
        "df_data['Embarked'] = df_data['Embarked'].fillna('S')\n",
        "# OneHot Encoding\n",
        "OneHot_Embarked = pd.get_dummies( df_data.Embarked, prefix='Embarked' )\n",
        "df_data = pd.concat( [ df_data, OneHot_Embarked ], axis=1 )"
      ]
    },
    {
      "cell_type": "code",
      "execution_count": 107,
      "metadata": {
        "colab": {
          "base_uri": "https://localhost:8080/"
        },
        "id": "o3ykCEiZKaaI",
        "outputId": "211a83c5-f9d5-47bf-bd91-3e87d45fa7a0"
      },
      "outputs": [
        {
          "name": "stderr",
          "output_type": "stream",
          "text": [
            "/usr/local/lib/python3.7/dist-packages/pandas/core/indexing.py:1732: SettingWithCopyWarning: \n",
            "A value is trying to be set on a copy of a slice from a DataFrame\n",
            "\n",
            "See the caveats in the documentation: https://pandas.pydata.org/pandas-docs/stable/user_guide/indexing.html#returning-a-view-versus-a-copy\n",
            "  self._setitem_single_block(indexer, value, name)\n"
          ]
        }
      ],
      "source": [
        "#處理Cabin缺失、轉換成類別資料\n",
        "df_data['Cabin'].loc[ (df_data['Cabin'].notnull()) ] = 1\n",
        "df_data['Cabin'].loc[ (df_data['Cabin'].isnull()) ] = 0"
      ]
    },
    {
      "cell_type": "code",
      "execution_count": 108,
      "metadata": {
        "id": "z2lMapo5LsIV"
      },
      "outputs": [],
      "source": [
        "from sklearn.preprocessing import LabelEncoder\n",
        "\n",
        "#填補Fare\n",
        "df_data['Fare'] = df_data['Fare'].fillna(df_data['Fare'].median())\n",
        "#分成4、5、6等分\n",
        "df_data['FareBin_4'] = pd.qcut(df_data['Fare'], 4)\n",
        "df_data['FareBin_5'] = pd.qcut(df_data['Fare'], 5)\n",
        "df_data['FareBin_6'] = pd.qcut(df_data['Fare'], 6)\n",
        "#轉成類別\n",
        "le = LabelEncoder()\n",
        "df_data['FareBin_4'] = le.fit_transform(df_data['FareBin_4'])\n",
        "df_data['FareBin_5'] = le.fit_transform(df_data['FareBin_5'])\n",
        "df_data['FareBin_6'] = le.fit_transform(df_data['FareBin_6'])"
      ]
    },
    {
      "cell_type": "code",
      "execution_count": 109,
      "metadata": {
        "id": "Z3LKs7UCNJa1"
      },
      "outputs": [],
      "source": [
        "# 創造新的特徵: 稱謂(Title)\n",
        "df_data['Title'] = df_data['Name']\n",
        "for name_string in df_data['Name']:\n",
        "  df_data['Title'] = df_data['Name'].str.extract('([A-Za-z]+)\\.', expand=True) #抓出名字中Title\n",
        "\n",
        "#print(df_data['Title'].unique()) #觀察Title種類\n",
        "\n",
        "#處理較少出現、性質相同的Title\n",
        "mapping = {'Mlle': 'Miss', 'Major': 'Mr', 'Col': 'Mr', 'Sir': 'Mr', 'Don': 'Mr', 'Mme': 'Miss',\n",
        "          'Jonkheer': 'Mr', 'Lady': 'Mrs', 'Capt': 'Mr', 'Countess': 'Mrs', 'Ms': 'Miss', 'Dona': 'Mrs'}\n",
        "df_data.replace({'Title': mapping}, inplace=True)\n",
        "\n",
        "#採用姓名中相同Title的年齡中位數來填補Age\n",
        "title_list = ['Dr', 'Master', 'Miss', 'Mr', 'Mrs', 'Rev']\n",
        "for title in title_list:\n",
        "  age_impute = df_data.groupby('Title')['Age'].median()[title_list.index(title)]\n",
        "  df_data.loc[(df_data['Age'].isnull()) & (df_data['Title'] == title), 'Age'] = age_impute"
      ]
    },
    {
      "cell_type": "markdown",
      "metadata": {
        "id": "rGXbTo1gNx0W"
      },
      "source": [
        "根據不同Title的存活率，將稱謂轉換成0、1、2、3、4"
      ]
    },
    {
      "cell_type": "code",
      "execution_count": 110,
      "metadata": {
        "colab": {
          "base_uri": "https://localhost:8080/",
          "height": 296
        },
        "id": "B5GbXhO4NwKm",
        "outputId": "88bd1b98-4291-4d7d-902b-b6b6123a6980"
      },
      "outputs": [
        {
          "data": {
            "text/plain": [
              "<matplotlib.axes._subplots.AxesSubplot at 0x7fb52cafaa10>"
            ]
          },
          "execution_count": 110,
          "metadata": {},
          "output_type": "execute_result"
        },
        {
          "data": {
            "image/png": "[encoded data removed]",
            "text/plain": [
              "<Figure size 432x288 with 1 Axes>"
            ]
          },
          "metadata": {
            "needs_background": "light"
          },
          "output_type": "display_data"
        }
      ],
      "source": [
        "#將Title轉換成數值資料\n",
        "df_data['Title'] = df_data['Title'].map({'Mr':0, 'Rev':0, 'Dr':1, 'Master':2, 'Miss':3, 'Mrs':4})\n",
        "sns.countplot(x= df_data['Title'], hue= df_data['Survived'])"
      ]
    },
    {
      "cell_type": "code",
      "execution_count": 111,
      "metadata": {
        "id": "m6loyBhuN8P3"
      },
      "outputs": [],
      "source": [
        "from sklearn.preprocessing import LabelEncoder\n",
        "\n",
        "#分成4、5、6等分\n",
        "df_data['AgeBin_4'] = pd.qcut(df_data['Age'], 4)\n",
        "df_data['AgeBin_5'] = pd.qcut(df_data['Age'], 5)\n",
        "df_data['AgeBin_6'] = pd.qcut(df_data['Age'], 6)\n",
        "#轉成類別\n",
        "le = LabelEncoder()\n",
        "df_data['AgeBin_4'] = le.fit_transform(df_data['AgeBin_4'])\n",
        "df_data['AgeBin_5'] = le.fit_transform(df_data['AgeBin_5'])\n",
        "df_data['AgeBin_6'] = le.fit_transform(df_data['AgeBin_6'])"
      ]
    },
    {
      "cell_type": "code",
      "execution_count": 112,
      "metadata": {
        "colab": {
          "base_uri": "https://localhost:8080/",
          "height": 192
        },
        "id": "KTlkTNxaOAWU",
        "outputId": "a9d49406-be66-47bc-ac45-36b9deddc2c3"
      },
      "outputs": [
        {
          "name": "stdout",
          "output_type": "stream",
          "text": [
            "有生存連結人數: 496\n"
          ]
        },
        {
          "data": {
            "text/html": [
              "\n",
              "  <div id=\"df-89daeb13-26ff-413a-8200-5fe6d73d573b\">\n",
              "    <div class=\"colab-df-container\">\n",
              "      <div>\n",
              "<style scoped>\n",
              "    .dataframe tbody tr th:only-of-type {\n",
              "        vertical-align: middle;\n",
              "    }\n",
              "\n",
              "    .dataframe tbody tr th {\n",
              "        vertical-align: top;\n",
              "    }\n",
              "\n",
              "    .dataframe thead th {\n",
              "        text-align: right;\n",
              "    }\n",
              "</style>\n",
              "<table border=\"1\" class=\"dataframe\">\n",
              "  <thead>\n",
              "    <tr style=\"text-align: right;\">\n",
              "      <th></th>\n",
              "      <th>Survived</th>\n",
              "    </tr>\n",
              "    <tr>\n",
              "      <th>Connected_Survival</th>\n",
              "      <th></th>\n",
              "    </tr>\n",
              "  </thead>\n",
              "  <tbody>\n",
              "    <tr>\n",
              "      <th>0.0</th>\n",
              "      <td>0.225</td>\n",
              "    </tr>\n",
              "    <tr>\n",
              "      <th>0.5</th>\n",
              "      <td>0.298</td>\n",
              "    </tr>\n",
              "    <tr>\n",
              "      <th>1.0</th>\n",
              "      <td>0.728</td>\n",
              "    </tr>\n",
              "  </tbody>\n",
              "</table>\n",
              "</div>\n",
              "      <button class=\"colab-df-convert\" onclick=\"convertToInteractive('df-89daeb13-26ff-413a-8200-5fe6d73d573b')\"\n",
              "              title=\"Convert this dataframe to an interactive table.\"\n",
              "              style=\"display:none;\">\n",
              "        \n",
              "  <svg xmlns=\"http://www.w3.org/2000/svg\" height=\"24px\"viewBox=\"0 0 24 24\"\n",
              "       width=\"24px\">\n",
              "    <path d=\"M0 0h24v24H0V0z\" fill=\"none\"/>\n",
              "    <path d=\"M18.56 5.44l.94 2.06.94-2.06 2.06-.94-2.06-.94-.94-2.06-.94 2.06-2.06.94zm-11 1L8.5 8.5l.94-2.06 2.06-.94-2.06-.94L8.5 2.5l-.94 2.06-2.06.94zm10 10l.94 2.06.94-2.06 2.06-.94-2.06-.94-.94-2.06-.94 2.06-2.06.94z\"/><path d=\"M17.41 7.96l-1.37-1.37c-.4-.4-.92-.59-1.43-.59-.52 0-1.04.2-1.43.59L10.3 9.45l-7.72 7.72c-.78.78-.78 2.05 0 2.83L4 21.41c.39.39.9.59 1.41.59.51 0 1.02-.2 1.41-.59l7.78-7.78 2.81-2.81c.8-.78.8-2.07 0-2.86zM5.41 20L4 18.59l7.72-7.72 1.47 1.35L5.41 20z\"/>\n",
              "  </svg>\n",
              "      </button>\n",
              "      \n",
              "  <style>\n",
              "    .colab-df-container {\n",
              "      display:flex;\n",
              "      flex-wrap:wrap;\n",
              "      gap: 12px;\n",
              "    }\n",
              "\n",
              "    .colab-df-convert {\n",
              "      background-color: #E8F0FE;\n",
              "      border: none;\n",
              "      border-radius: 50%;\n",
              "      cursor: pointer;\n",
              "      display: none;\n",
              "      fill: #1967D2;\n",
              "      height: 32px;\n",
              "      padding: 0 0 0 0;\n",
              "      width: 32px;\n",
              "    }\n",
              "\n",
              "    .colab-df-convert:hover {\n",
              "      background-color: #E2EBFA;\n",
              "      box-shadow: 0px 1px 2px rgba(60, 64, 67, 0.3), 0px 1px 3px 1px rgba(60, 64, 67, 0.15);\n",
              "      fill: #174EA6;\n",
              "    }\n",
              "\n",
              "    [theme=dark] .colab-df-convert {\n",
              "      background-color: #3B4455;\n",
              "      fill: #D2E3FC;\n",
              "    }\n",
              "\n",
              "    [theme=dark] .colab-df-convert:hover {\n",
              "      background-color: #434B5C;\n",
              "      box-shadow: 0px 1px 3px 1px rgba(0, 0, 0, 0.15);\n",
              "      filter: drop-shadow(0px 1px 2px rgba(0, 0, 0, 0.3));\n",
              "      fill: #FFFFFF;\n",
              "    }\n",
              "  </style>\n",
              "\n",
              "      <script>\n",
              "        const buttonEl =\n",
              "          document.querySelector('#df-89daeb13-26ff-413a-8200-5fe6d73d573b button.colab-df-convert');\n",
              "        buttonEl.style.display =\n",
              "          google.colab.kernel.accessAllowed ? 'block' : 'none';\n",
              "\n",
              "        async function convertToInteractive(key) {\n",
              "          const element = document.querySelector('#df-89daeb13-26ff-413a-8200-5fe6d73d573b');\n",
              "          const dataTable =\n",
              "            await google.colab.kernel.invokeFunction('convertToInteractive',\n",
              "                                                     [key], {});\n",
              "          if (!dataTable) return;\n",
              "\n",
              "          const docLinkHtml = 'Like what you see? Visit the ' +\n",
              "            '<a target=\"_blank\" href=https://colab.research.google.com/notebooks/data_table.ipynb>data table notebook</a>'\n",
              "            + ' to learn more about interactive tables.';\n",
              "          element.innerHTML = '';\n",
              "          dataTable['output_type'] = 'display_data';\n",
              "          await google.colab.output.renderOutput(dataTable, element);\n",
              "          const docLink = document.createElement('div');\n",
              "          docLink.innerHTML = docLinkHtml;\n",
              "          element.appendChild(docLink);\n",
              "        }\n",
              "      </script>\n",
              "    </div>\n",
              "  </div>\n",
              "  "
            ],
            "text/plain": [
              "                    Survived\n",
              "Connected_Survival          \n",
              "0.0                    0.225\n",
              "0.5                    0.298\n",
              "1.0                    0.728"
            ]
          },
          "execution_count": 112,
          "metadata": {},
          "output_type": "execute_result"
        }
      ],
      "source": [
        "#創造新的特徵: 生存連結(Connected_Survival)\n",
        "df_data['Connected_Survival'] = 0.5  #預設為0.5\n",
        "for _, df_grp in df_data.groupby('Ticket'):\n",
        "  if (len(df_grp) > 1):\n",
        "    for ind, row in df_grp.iterrows():\n",
        "      smax = df_grp.drop(ind)['Survived'].max()\n",
        "      smin = df_grp.drop(ind)['Survived'].min()\n",
        "      passID = row['PassengerId']\n",
        "      if (smax == 1.0):\n",
        "        df_data.loc[df_data['PassengerId'] == passID, 'Connected_Survival'] = 1  #如果有人存活則為1\n",
        "      elif (smin == 0.0):\n",
        "        df_data.loc[df_data['PassengerId'] == passID, 'Connected_Survival'] = 0  #如果無人存活，且有人死亡則為0\n",
        "\n",
        "print('有生存連結人數:',df_data[df_data['Connected_Survival']!=0.5].shape[0])\n",
        "df_data.groupby('Connected_Survival')[['Survived']].mean().round(3)"
      ]
    },
    {
      "cell_type": "code",
      "execution_count": 113,
      "metadata": {
        "id": "3vg5iiWBN-XX"
      },
      "outputs": [],
      "source": [
        "# 創造新的特徵：家庭人數(Family)\n",
        "df_data['Family'] = df_data['SibSp'] + df_data['Parch'] + 1\n",
        "\n",
        "# 創造新的特徵: 未成年(Minor)\n",
        "df_data['Minor'] = np.where(df_data['Age']<=18, 1, 0)\n",
        "\n",
        "# 創造新的特徵: 單獨旅遊(Alone)\n",
        "df_data['Alone'] = np.where(df_data['Family']>1, 0, 1)"
      ]
    },
    {
      "cell_type": "code",
      "execution_count": 114,
      "metadata": {
        "id": "iG35Rf5hOI1R"
      },
      "outputs": [],
      "source": [
        "from sklearn.preprocessing import StandardScaler\n",
        "sc = StandardScaler()\n",
        "#將Age離散化\n",
        "age_sc = sc.fit(df_data['Age'].values.reshape(-1,1))\n",
        "df_data['Age_sc'] = sc.fit_transform(df_data['Age'].values.reshape(-1,1), age_sc)\n",
        "#將Fare離散化\n",
        "fare_sc = sc.fit(df_data['Fare'].values.reshape(-1,1))\n",
        "df_data['Fare_sc'] = sc.fit_transform(df_data['Fare'].values.reshape(-1,1), fare_sc)"
      ]
    },
    {
      "cell_type": "markdown",
      "metadata": {
        "id": "B5ZFcDNZOLk3"
      },
      "source": [
        "確認各類別資料無遺漏"
      ]
    },
    {
      "cell_type": "code",
      "execution_count": 115,
      "metadata": {
        "colab": {
          "base_uri": "https://localhost:8080/"
        },
        "id": "UdDBVlIuOMIh",
        "outputId": "9bd8b4ed-8ca8-429c-9f92-42cfae573483"
      },
      "outputs": [
        {
          "name": "stdout",
          "output_type": "stream",
          "text": [
            "                    null\n",
            "PassengerId            0\n",
            "Survived             418\n",
            "Pclass                 0\n",
            "Name                   0\n",
            "Sex                    0\n",
            "Age                    0\n",
            "SibSp                  0\n",
            "Parch                  0\n",
            "Ticket                 0\n",
            "Fare                   0\n",
            "Cabin                  0\n",
            "Embarked               0\n",
            "Has_Age                0\n",
            "Embarked_C             0\n",
            "Embarked_Q             0\n",
            "Embarked_S             0\n",
            "FareBin_4              0\n",
            "FareBin_5              0\n",
            "FareBin_6              0\n",
            "Title                  0\n",
            "AgeBin_4               0\n",
            "AgeBin_5               0\n",
            "AgeBin_6               0\n",
            "Connected_Survival     0\n",
            "Family                 0\n",
            "Minor                  0\n",
            "Alone                  0\n",
            "Age_sc                 0\n",
            "Fare_sc                0\n"
          ]
        }
      ],
      "source": [
        "print(pd.DataFrame({'null': df_data.isnull().sum()}))"
      ]
    },
    {
      "cell_type": "markdown",
      "metadata": {
        "id": "C_15X3efPON0"
      },
      "source": [
        "**計算相關係數，以輔助後續特徵之選擇**"
      ]
    },
    {
      "cell_type": "code",
      "execution_count": 116,
      "metadata": {
        "colab": {
          "base_uri": "https://localhost:8080/",
          "height": 802
        },
        "id": "DfrWngrjPNJM",
        "outputId": "c85dbf5e-668d-499b-b575-e86b54ecd46f"
      },
      "outputs": [
        {
          "data": {
            "text/html": [
              "\n",
              "  <div id=\"df-8e7b3154-7853-4811-8ad7-44f5e29b5884\">\n",
              "    <div class=\"colab-df-container\">\n",
              "      <div>\n",
              "<style scoped>\n",
              "    .dataframe tbody tr th:only-of-type {\n",
              "        vertical-align: middle;\n",
              "    }\n",
              "\n",
              "    .dataframe tbody tr th {\n",
              "        vertical-align: top;\n",
              "    }\n",
              "\n",
              "    .dataframe thead th {\n",
              "        text-align: right;\n",
              "    }\n",
              "</style>\n",
              "<table border=\"1\" class=\"dataframe\">\n",
              "  <thead>\n",
              "    <tr style=\"text-align: right;\">\n",
              "      <th></th>\n",
              "      <th>Survived</th>\n",
              "    </tr>\n",
              "  </thead>\n",
              "  <tbody>\n",
              "    <tr>\n",
              "      <th>Embarked_Q</th>\n",
              "      <td>0.003650</td>\n",
              "    </tr>\n",
              "    <tr>\n",
              "      <th>PassengerId</th>\n",
              "      <td>0.005007</td>\n",
              "    </tr>\n",
              "    <tr>\n",
              "      <th>AgeBin_4</th>\n",
              "      <td>0.014851</td>\n",
              "    </tr>\n",
              "    <tr>\n",
              "      <th>Family</th>\n",
              "      <td>0.016639</td>\n",
              "    </tr>\n",
              "    <tr>\n",
              "      <th>AgeBin_6</th>\n",
              "      <td>0.018090</td>\n",
              "    </tr>\n",
              "    <tr>\n",
              "      <th>AgeBin_5</th>\n",
              "      <td>0.021639</td>\n",
              "    </tr>\n",
              "    <tr>\n",
              "      <th>SibSp</th>\n",
              "      <td>0.035322</td>\n",
              "    </tr>\n",
              "    <tr>\n",
              "      <th>Age_sc</th>\n",
              "      <td>0.076308</td>\n",
              "    </tr>\n",
              "    <tr>\n",
              "      <th>Age</th>\n",
              "      <td>0.076308</td>\n",
              "    </tr>\n",
              "    <tr>\n",
              "      <th>Parch</th>\n",
              "      <td>0.081629</td>\n",
              "    </tr>\n",
              "    <tr>\n",
              "      <th>Has_Age</th>\n",
              "      <td>0.092197</td>\n",
              "    </tr>\n",
              "    <tr>\n",
              "      <th>Minor</th>\n",
              "      <td>0.107582</td>\n",
              "    </tr>\n",
              "    <tr>\n",
              "      <th>Embarked_S</th>\n",
              "      <td>0.149683</td>\n",
              "    </tr>\n",
              "    <tr>\n",
              "      <th>Embarked_C</th>\n",
              "      <td>0.168240</td>\n",
              "    </tr>\n",
              "    <tr>\n",
              "      <th>Alone</th>\n",
              "      <td>0.203367</td>\n",
              "    </tr>\n",
              "    <tr>\n",
              "      <th>Fare_sc</th>\n",
              "      <td>0.257307</td>\n",
              "    </tr>\n",
              "    <tr>\n",
              "      <th>Fare</th>\n",
              "      <td>0.257307</td>\n",
              "    </tr>\n",
              "    <tr>\n",
              "      <th>FareBin_4</th>\n",
              "      <td>0.306855</td>\n",
              "    </tr>\n",
              "    <tr>\n",
              "      <th>FareBin_5</th>\n",
              "      <td>0.317386</td>\n",
              "    </tr>\n",
              "    <tr>\n",
              "      <th>FareBin_6</th>\n",
              "      <td>0.323695</td>\n",
              "    </tr>\n",
              "    <tr>\n",
              "      <th>Pclass</th>\n",
              "      <td>0.338481</td>\n",
              "    </tr>\n",
              "    <tr>\n",
              "      <th>Connected_Survival</th>\n",
              "      <td>0.343614</td>\n",
              "    </tr>\n",
              "    <tr>\n",
              "      <th>Sex</th>\n",
              "      <td>0.543351</td>\n",
              "    </tr>\n",
              "    <tr>\n",
              "      <th>Title</th>\n",
              "      <td>0.569556</td>\n",
              "    </tr>\n",
              "  </tbody>\n",
              "</table>\n",
              "</div>\n",
              "      <button class=\"colab-df-convert\" onclick=\"convertToInteractive('df-8e7b3154-7853-4811-8ad7-44f5e29b5884')\"\n",
              "              title=\"Convert this dataframe to an interactive table.\"\n",
              "              style=\"display:none;\">\n",
              "        \n",
              "  <svg xmlns=\"http://www.w3.org/2000/svg\" height=\"24px\"viewBox=\"0 0 24 24\"\n",
              "       width=\"24px\">\n",
              "    <path d=\"M0 0h24v24H0V0z\" fill=\"none\"/>\n",
              "    <path d=\"M18.56 5.44l.94 2.06.94-2.06 2.06-.94-2.06-.94-.94-2.06-.94 2.06-2.06.94zm-11 1L8.5 8.5l.94-2.06 2.06-.94-2.06-.94L8.5 2.5l-.94 2.06-2.06.94zm10 10l.94 2.06.94-2.06 2.06-.94-2.06-.94-.94-2.06-.94 2.06-2.06.94z\"/><path d=\"M17.41 7.96l-1.37-1.37c-.4-.4-.92-.59-1.43-.59-.52 0-1.04.2-1.43.59L10.3 9.45l-7.72 7.72c-.78.78-.78 2.05 0 2.83L4 21.41c.39.39.9.59 1.41.59.51 0 1.02-.2 1.41-.59l7.78-7.78 2.81-2.81c.8-.78.8-2.07 0-2.86zM5.41 20L4 18.59l7.72-7.72 1.47 1.35L5.41 20z\"/>\n",
              "  </svg>\n",
              "      </button>\n",
              "      \n",
              "  <style>\n",
              "    .colab-df-container {\n",
              "      display:flex;\n",
              "      flex-wrap:wrap;\n",
              "      gap: 12px;\n",
              "    }\n",
              "\n",
              "    .colab-df-convert {\n",
              "      background-color: #E8F0FE;\n",
              "      border: none;\n",
              "      border-radius: 50%;\n",
              "      cursor: pointer;\n",
              "      display: none;\n",
              "      fill: #1967D2;\n",
              "      height: 32px;\n",
              "      padding: 0 0 0 0;\n",
              "      width: 32px;\n",
              "    }\n",
              "\n",
              "    .colab-df-convert:hover {\n",
              "      background-color: #E2EBFA;\n",
              "      box-shadow: 0px 1px 2px rgba(60, 64, 67, 0.3), 0px 1px 3px 1px rgba(60, 64, 67, 0.15);\n",
              "      fill: #174EA6;\n",
              "    }\n",
              "\n",
              "    [theme=dark] .colab-df-convert {\n",
              "      background-color: #3B4455;\n",
              "      fill: #D2E3FC;\n",
              "    }\n",
              "\n",
              "    [theme=dark] .colab-df-convert:hover {\n",
              "      background-color: #434B5C;\n",
              "      box-shadow: 0px 1px 3px 1px rgba(0, 0, 0, 0.15);\n",
              "      filter: drop-shadow(0px 1px 2px rgba(0, 0, 0, 0.3));\n",
              "      fill: #FFFFFF;\n",
              "    }\n",
              "  </style>\n",
              "\n",
              "      <script>\n",
              "        const buttonEl =\n",
              "          document.querySelector('#df-8e7b3154-7853-4811-8ad7-44f5e29b5884 button.colab-df-convert');\n",
              "        buttonEl.style.display =\n",
              "          google.colab.kernel.accessAllowed ? 'block' : 'none';\n",
              "\n",
              "        async function convertToInteractive(key) {\n",
              "          const element = document.querySelector('#df-8e7b3154-7853-4811-8ad7-44f5e29b5884');\n",
              "          const dataTable =\n",
              "            await google.colab.kernel.invokeFunction('convertToInteractive',\n",
              "                                                     [key], {});\n",
              "          if (!dataTable) return;\n",
              "\n",
              "          const docLinkHtml = 'Like what you see? Visit the ' +\n",
              "            '<a target=\"_blank\" href=https://colab.research.google.com/notebooks/data_table.ipynb>data table notebook</a>'\n",
              "            + ' to learn more about interactive tables.';\n",
              "          element.innerHTML = '';\n",
              "          dataTable['output_type'] = 'display_data';\n",
              "          await google.colab.output.renderOutput(dataTable, element);\n",
              "          const docLink = document.createElement('div');\n",
              "          docLink.innerHTML = docLinkHtml;\n",
              "          element.appendChild(docLink);\n",
              "        }\n",
              "      </script>\n",
              "    </div>\n",
              "  </div>\n",
              "  "
            ],
            "text/plain": [
              "                    Survived\n",
              "Embarked_Q          0.003650\n",
              "PassengerId         0.005007\n",
              "AgeBin_4            0.014851\n",
              "Family              0.016639\n",
              "AgeBin_6            0.018090\n",
              "AgeBin_5            0.021639\n",
              "SibSp               0.035322\n",
              "Age_sc              0.076308\n",
              "Age                 0.076308\n",
              "Parch               0.081629\n",
              "Has_Age             0.092197\n",
              "Minor               0.107582\n",
              "Embarked_S          0.149683\n",
              "Embarked_C          0.168240\n",
              "Alone               0.203367\n",
              "Fare_sc             0.257307\n",
              "Fare                0.257307\n",
              "FareBin_4           0.306855\n",
              "FareBin_5           0.317386\n",
              "FareBin_6           0.323695\n",
              "Pclass              0.338481\n",
              "Connected_Survival  0.343614\n",
              "Sex                 0.543351\n",
              "Title               0.569556"
            ]
          },
          "execution_count": 116,
          "metadata": {},
          "output_type": "execute_result"
        }
      ],
      "source": [
        "# Survied 與其他欄位間的相關係數\n",
        "Corr_Matrix = df_data.corr()  # 計算相關係數\n",
        "Corr_Matrix = abs(Corr_Matrix)\n",
        "Corr = Corr_Matrix.loc['Survived',:].sort_values()[:-1]\n",
        "Corr = pd.DataFrame({ 'Survived':Corr })\n",
        "Corr"
      ]
    },
    {
      "cell_type": "markdown",
      "metadata": {
        "id": "K_jGdopjP48U"
      },
      "source": [
        "#資料分析 (處理後)\n",
        "\n",
        "再做一次資料視覺化分析:\n",
        "- AgeBin\n",
        "  - 不同年齡層存活率不同\n",
        "- Family\n",
        "  - 獨自1人存活率最低，2~4人存活率較高\n",
        "- FareBin\n",
        "  - 票價越高存活率越高\n",
        "- Embarked\n",
        "  - 港口S的分布圖最不相同，可能較具有訓練價值\n",
        "- Cabin\n",
        "  - 有Cabin資料的存活率較高\n",
        "- Alone\n",
        "  - 獨自一人存活率較低\n",
        "- Minor\n",
        "  - 小孩存活率較高"
      ]
    },
    {
      "cell_type": "code",
      "execution_count": 117,
      "metadata": {
        "colab": {
          "base_uri": "https://localhost:8080/",
          "height": 1000
        },
        "id": "koKzgp26QAuY",
        "outputId": "b7de76b8-97e9-4ab9-c2fb-63f256ae6471"
      },
      "outputs": [
        {
          "data": {
            "image/png": "[encoded data removed]",
            "text/plain": [
              "<Figure size 720x3240 with 9 Axes>"
            ]
          },
          "metadata": {
            "needs_background": "light"
          },
          "output_type": "display_data"
        }
      ],
      "source": [
        "selected_cols = ['AgeBin_4','Family','FareBin_4','Embarked_C','Embarked_Q','Embarked_S','Cabin','Alone','Minor']\n",
        "\n",
        "plt.figure( figsize=(10,len(selected_cols)*5) )\n",
        "gs = gridspec.GridSpec(len(selected_cols),1)    \n",
        "for i, col in enumerate( df_data[selected_cols] ) :        \n",
        "  ax = plt.subplot( gs[i] )\n",
        "  sns.countplot(x= df_data[col], hue= df_data['Survived'])\n",
        "  ax.set_ylabel( 'Counts' )\n",
        "\n",
        "plt.show()"
      ]
    },
    {
      "cell_type": "markdown",
      "metadata": {
        "id": "n6y-MMqjeg--"
      },
      "source": [
        "## 模型訓練\n",
        "\n",
        "請在此區塊後使用**一個或多個區塊**進行模型訓練，**需要**包含以下內容：\n",
        "\n",
        "- **選擇模型**\n",
        "    - 設定模型**超參數**\n",
        "    - **控制隨機亂數**\n",
        "- 計算**準確度（Accuracy）**\n",
        "    - 使用 **5-fold cross validation**，輸出**平均準確度**\n",
        "    - 最後再使用**所有**資料進行訓練並輸出**準確度**\n",
        "    - 準確度必須**超越**課堂使用的範例\n",
        "    \n",
        "如果有進行多於一個以上的實驗，**可以保留所有**的實驗結果，但是執行時間將會納入**全部**實驗。"
      ]
    },
    {
      "cell_type": "markdown",
      "metadata": {
        "id": "FqmtNwaiQK2t"
      },
      "source": [
        "根據前面資料處理後可得到可能較有用的特徵：\n",
        "- Sex\t\n",
        "- Pclass\n",
        "- Age\t(Bin、sc)\n",
        "- Fare (Bin、sc)\t\t\n",
        "- Cabin\n",
        "- Embarked (C、Q、S)\n",
        "- Family\n",
        "- Title\n",
        "- Moinor\n",
        "- Alone\n",
        "- Connected_Survival\n",
        "\n",
        "搭配前面視覺化資料分析之圖表，先選出可能較有用之特徵：\n",
        "- Sex\n",
        "  - 女性存活率偏高\n",
        "- Pclass\n",
        "  - 艙等越高存活率越高\n",
        "- Age\t(Bin、sc)\n",
        "  - 不同區段的年齡存活率不同，且小孩存活率較高\n",
        "- Fare (Bin、sc)\n",
        "  - 票價越高存活率越高\n",
        "- Family\n",
        "  - 家庭人數在2~4存活率最高\n",
        "- Title\n",
        "  - 可以看到存活率 Mrs > Miss > 其他 >>> Mr \n",
        "- Connected_Survival\n",
        "  - 相同票根的群組中，若有人存活，則整個群組存活率較高\n",
        "\n",
        "其中被排除的特徵有：\n",
        "- Cabin\n",
        "  - 缺失太多，最後決定排除\n",
        "- Embarked\n",
        "  - 儘管分析上是有關聯，但做簡單實測後發現效果不好，故排除\n",
        "- Moinor\n",
        "  - 已包含在Age中，排除重複特徵\n",
        "- Alone\n",
        "  - 已包含在Family、Connected_Survival，排除重複特徵"
      ]
    },
    {
      "cell_type": "code",
      "execution_count": 118,
      "metadata": {
        "id": "gTitS6DNeg--"
      },
      "outputs": [],
      "source": [
        "# 模型訓練\n",
        "from sklearn.model_selection import KFold,train_test_split  # 匯入驗證工具\n",
        "from sklearn.tree import DecisionTreeClassifier       # 匯入決策樹模型\n",
        "from sklearn.ensemble import RandomForestClassifier     # 匯入隨機森林模型\n",
        "from sklearn.metrics import accuracy_score            # 匯入準確度計算工具\n",
        "\n",
        "seed = 42\n",
        "df_train = df_data[:len(df)]  #切分出訓練集\n",
        "df_test = df_data[len(df):]  #切分出要送上Kaggle的測試集\n",
        "train_y = df['Survived'] \n",
        "\n",
        "def fold_train(train_x, train_y, model):\n",
        "  kf = KFold(n_splits=5,random_state=seed,shuffle=True)     # 設定 K 值\n",
        "  kf.get_n_splits(train_x)                     # 給予資料範圍\n",
        "\n",
        "  train_acc_list = []                       # 儲存每次訓練模型的準確度\n",
        "  valid_acc_list = []                      # 儲存每次驗證模型的準確度\n",
        "\n",
        "  for train_index, valid_index in kf.split(train_x):    # 每個迴圈都會產生不同部份的資料\n",
        "      train_x_split = train_x.iloc[train_index]         # 產生訓練資料\n",
        "      train_y_split = train_y.iloc[train_index]         # 產生訓練資料標籤\n",
        "      valid_x_split = train_x.iloc[valid_index]         # 產生驗證資料\n",
        "      valid_y_split = train_y.iloc[valid_index]         # 產生驗證資料標籤\n",
        "      \n",
        "      model.fit(train_x_split, train_y_split)           # 訓練決策樹模型\n",
        "      \n",
        "      train_pred_y = model.predict(train_x_split)       # 確認模型是否訓練成功\n",
        "      train_acc = accuracy_score(train_y_split, train_pred_y)         # 計算訓練資料準確度\n",
        "                                \n",
        "      valid_pred_y = model.predict(valid_x_split)       # 驗證模型是否訓練成功\n",
        "      valid_acc = accuracy_score(valid_y_split, valid_pred_y)        # 計算驗證資料準確度\n",
        "                                \n",
        "      train_acc_list.append(train_acc)\n",
        "      valid_acc_list.append(valid_acc)\n",
        "\n",
        "  print((\n",
        "      'Average train accuracy: {}\\n' +\n",
        "      '    min train accuracy: {}\\n' +\n",
        "      '    max train accuracy: {}\\n' +\n",
        "      'Average valid accuracy: {}\\n' +\n",
        "      '    min valid accuracy: {}\\n' +\n",
        "      '    max valid accuracy: {}').format(\n",
        "      round(np.mean(train_acc_list),4),                          # 輸出平均訓練準確度\n",
        "      round(np.min(train_acc_list),4),                           # 輸出最低訓練準確度\n",
        "      round(np.max(train_acc_list),4),                           # 輸出最高訓練準確度\n",
        "      round(np.mean(valid_acc_list),4),                          # 輸出平均驗證準確度\n",
        "      round(np.min(valid_acc_list),4),                           # 輸出最低驗證準確度\n",
        "      round(np.max(valid_acc_list),4)                            # 輸出最高驗證準確度\n",
        "  ))\n",
        "\n",
        "def all_train(data_x, data_y, model):\n",
        "  train_x, valid_x, train_y, valid_y = train_test_split(data_x, data_y, test_size=0.3, random_state=seed)\n",
        "\n",
        "  model.fit(train_x, train_y)           # 訓練模型\n",
        "  \n",
        "  train_pred_y = model.predict(train_x)       # 確認模型是否訓練成功\n",
        "  train_acc = accuracy_score(train_y, train_pred_y)         # 計算訓練資料準確度\n",
        "                            \n",
        "  valid_pred_y = model.predict(valid_x)       # 驗證模型是否訓練成功\n",
        "  valid_acc = accuracy_score(valid_y, valid_pred_y)        # 計算驗證資料準確度\n",
        "\n",
        "  print('Train accuracy:',round(train_acc,4))\n",
        "  print('Valid accuracy:',round(valid_acc,4))\n",
        "\n",
        "  return model\n"
      ]
    },
    {
      "cell_type": "markdown",
      "metadata": {
        "id": "EM2vVlrdRoJg"
      },
      "source": [
        "**使用 5-fold cross validation 輸出平均準確度**\n",
        "\n",
        "解釋模型超參數的選擇理由、模型演算法:\n",
        "- 使用分類模型通常表現最好的RandomForest\n",
        "  - 利用多顆Decision tree投票來決定最終預測\n",
        "  - Decision tree則是利用Information gain，找到最佳的分類架構\n",
        "  - 實測後發現100以上的表現都差不多，因此n_estimators選擇99\n",
        "  - 控制random_state，達到可以重現實驗的目的，後續模型也會這樣做"
      ]
    },
    {
      "cell_type": "code",
      "execution_count": 119,
      "metadata": {
        "colab": {
          "base_uri": "https://localhost:8080/"
        },
        "id": "U4TMwEjTRpHY",
        "outputId": "5fa2c560-38c4-4508-b6b3-476920b1d80b"
      },
      "outputs": [
        {
          "name": "stdout",
          "output_type": "stream",
          "text": [
            "Average train accuracy: 0.8995\n",
            "    min train accuracy: 0.889\n",
            "    max train accuracy: 0.906\n",
            "Average valid accuracy: 0.8383\n",
            "    min valid accuracy: 0.8146\n",
            "    max valid accuracy: 0.8771\n"
          ]
        }
      ],
      "source": [
        "train_x = df_train[['Sex', 'Pclass', 'FareBin_4', 'AgeBin_4', 'Family', 'Title', 'Connected_Survival']]                 # 取出訓練資料需要分析的資料欄位  \n",
        "model = RandomForestClassifier(n_estimators=99, random_state=seed)\n",
        "fold_train(train_x, train_y, model)"
      ]
    },
    {
      "cell_type": "markdown",
      "metadata": {
        "id": "dV8LesWnR0Vc"
      },
      "source": [
        "**使用全部資料進行訓練**\n",
        "- 與剛剛的交叉一樣使用表現通常最好的RandomForest"
      ]
    },
    {
      "cell_type": "code",
      "execution_count": 120,
      "metadata": {
        "colab": {
          "base_uri": "https://localhost:8080/"
        },
        "id": "oICyXHFPRyZq",
        "outputId": "d5494113-e5fb-4f31-cfb7-d23f6dc8e3ee"
      },
      "outputs": [
        {
          "name": "stdout",
          "output_type": "stream",
          "text": [
            "Train accuracy: 0.8925\n",
            "Valid accuracy: 0.8507\n"
          ]
        }
      ],
      "source": [
        "train_x = df_train[['Sex', 'Pclass', 'FareBin_4', 'AgeBin_4', 'Family', 'Title', 'Connected_Survival']]\n",
        "model = RandomForestClassifier(n_estimators=99, random_state=seed)\n",
        "test = all_train(train_x,train_y,model)"
      ]
    },
    {
      "cell_type": "markdown",
      "metadata": {
        "id": "hJu8udwZR-ob"
      },
      "source": [
        "**使用多個不同模型進行訓練**\n",
        "\n",
        "解釋模型超參數的選擇理由、模型演算法:\n",
        "\n",
        "- KNN  (找最近的n筆資料，看它們屬於哪個類別的最多)\n",
        "  - n_neighnors選擇奇數，防止同樣票數\n",
        "  - 因為資料集不大，不能選擇太大的n_neighnors，實測後選擇15為較好的參數\n",
        "- SVM  (畫線來區隔開不同類別的資料)\n",
        "  - 'linear'、'poly'、'rbf'、'sigmoid'，選擇表現通常較好的rbf\n",
        "- Naive Bayes  (使用貝氏機率來找到最有可能的類別)\n",
        "- LogisticRegression  (類似Perceptron的感知器分類，畫線來區隔資料)\n",
        "  - 資料特性關係，要選擇penalty = l2\n",
        "- ANN  (使用類神經網路，根據loss去調整神經元的權重，達到最佳預測結果)\n",
        "  - loss使用適用於二分法的binary_crossentropy\n",
        "  - optimizer選擇效果好又較不需調參的adam\n",
        "  - 最後一層activation使用較適合二分法的sigmoid\n",
        "  - 實測epoch = 30左右不會過擬，再往上就會overfitting"
      ]
    },
    {
      "cell_type": "code",
      "execution_count": 121,
      "metadata": {
        "colab": {
          "base_uri": "https://localhost:8080/"
        },
        "id": "dCPni3TKR-PL",
        "outputId": "13cb00b5-bb0d-4425-9ee9-44f324c406b7"
      },
      "outputs": [
        {
          "name": "stdout",
          "output_type": "stream",
          "text": [
            "Knn:\n",
            "Train accuracy: 0.8443\n",
            "Valid accuracy: 0.8209\n",
            "\n",
            "SVM:\n",
            "Train accuracy: 0.8363\n",
            "Valid accuracy: 0.8358\n",
            "\n",
            "Naive Bayes:\n",
            "Train accuracy: 0.8042\n",
            "Valid accuracy: 0.8097\n",
            "\n",
            "LogisticRegression:\n",
            "Train accuracy: 0.8379\n",
            "Valid accuracy: 0.8396\n",
            "\n"
          ]
        }
      ],
      "source": [
        "train_x = df_train[['Sex', 'Pclass', 'FareBin_4', 'AgeBin_4', 'Family', 'Title', 'Connected_Survival']]\n",
        "\n",
        "from sklearn.neighbors import KNeighborsClassifier         \n",
        "Knn = KNeighborsClassifier(n_neighbors=15)\n",
        "print('Knn:')\n",
        "all_train(train_x, train_y, Knn)\n",
        "\n",
        "from sklearn.svm import SVC         \n",
        "SVM = SVC(kernel='rbf', random_state=seed)\n",
        "print('\\nSVM:')\n",
        "all_train(train_x, train_y, SVM)\n",
        "\n",
        "from sklearn.naive_bayes import GaussianNB         \n",
        "NB = GaussianNB()\n",
        "print('\\nNaive Bayes:')\n",
        "all_train(train_x, train_y, NB)\n",
        "\n",
        "from sklearn.linear_model import LogisticRegression\n",
        "LR = LogisticRegression(penalty='l2')\n",
        "print('\\nLogisticRegression:')\n",
        "all_train(train_x, train_y, LR)\n",
        "\n",
        "print()"
      ]
    },
    {
      "cell_type": "code",
      "execution_count": 122,
      "metadata": {
        "colab": {
          "base_uri": "https://localhost:8080/",
          "height": 720
        },
        "id": "GdxAE7jqSqs5",
        "outputId": "4b747485-0a19-4d73-e306-cd208987e382"
      },
      "outputs": [
        {
          "name": "stdout",
          "output_type": "stream",
          "text": [
            "Model: \"sequential_1\"\n",
            "_________________________________________________________________\n",
            " Layer (type)                Output Shape              Param #   \n",
            "=================================================================\n",
            " dense_3 (Dense)             (None, 32)                256       \n",
            "                                                                 \n",
            " dense_4 (Dense)             (None, 16)                528       \n",
            "                                                                 \n",
            " dense_5 (Dense)             (None, 1)                 17        \n",
            "                                                                 \n",
            "=================================================================\n",
            "Total params: 801\n",
            "Trainable params: 801\n",
            "Non-trainable params: 0\n",
            "_________________________________________________________________\n"
          ]
        },
        {
          "data": {
            "image/png": "[encoded data removed]",
            "text/plain": [
              "<Figure size 504x504 with 2 Axes>"
            ]
          },
          "metadata": {
            "needs_background": "light"
          },
          "output_type": "display_data"
        },
        {
          "name": "stdout",
          "output_type": "stream",
          "text": [
            "Test Accuracy = 88.89 %    loss = 0.319940\n"
          ]
        }
      ],
      "source": [
        "from tensorflow.keras.layers import Input, Dense, Activation,Dropout\n",
        "from tensorflow.keras.models import load_model, Sequential\n",
        "from tensorflow.keras.callbacks import ModelCheckpoint\n",
        "\n",
        "def plot_acc_loss(history):\n",
        "  fig = plt.figure(figsize = (7,7))  \n",
        "  plt.subplot(2,1,1)\n",
        "  plt.plot(history.history['accuracy'], label='training accuracy')\n",
        "  plt.plot(history.history['val_accuracy'], label='val accuracy')\n",
        "  plt.ylabel('accuracy')\n",
        "  plt.xlabel('epoch')\n",
        "  plt.legend(loc='lower right')\n",
        "  plt.subplot(2,1,2)\n",
        "  plt.plot(history.history['loss'], label='training loss')\n",
        "  plt.plot(history.history['val_loss'], label='val loss')\n",
        "  plt.ylabel('loss')\n",
        "  plt.xlabel('epoch')\n",
        "  plt.legend(loc='upper right')\n",
        "  plt.show()\n",
        "\n",
        "train_x = df_train[['Sex', 'Pclass', 'FareBin_4', 'AgeBin_4', 'Family', 'Title', 'Connected_Survival']]\n",
        "train_data = train_x.values\n",
        "train_label = train_y.values\n",
        "\n",
        "train_data, test_data, train_label, test_label = train_test_split(train_data, train_label, test_size=0.1, random_state=seed)\n",
        "\n",
        "model=Sequential()\n",
        "model.add(Input(shape=train_data.shape[1]))\n",
        "model.add(Dense(32, activation='relu'), )\n",
        "model.add(Dense(16, activation='relu'))\n",
        "#model.add(Dropout(0.3))\n",
        "model.add(Dense(1, activation='sigmoid'))\n",
        "model.summary()\n",
        "model.compile(loss='binary_crossentropy', optimizer = 'adam', metrics=['accuracy'])\n",
        "\n",
        "filepath = 'ANN.h5'\n",
        "checkpoint = ModelCheckpoint(filepath, monitor='val_loss', verbose=0, save_best_only=True)\n",
        "history = model.fit(\n",
        "    train_data,\n",
        "    train_label,\n",
        "    verbose=0,\n",
        "    batch_size = 32,\n",
        "    epochs = 30,\n",
        "    shuffle=True,\n",
        "    validation_split=0.1,\n",
        "    callbacks= [checkpoint])\n",
        "\n",
        "plot_acc_loss(history)\n",
        "ANN = load_model(filepath)\n",
        "loss, accuracy = ANN.evaluate(test_data, test_label, verbose=0)\n",
        "print(\"Test Accuracy = %.2f %%    loss = %f\" % (accuracy * 100, loss))"
      ]
    },
    {
      "cell_type": "markdown",
      "metadata": {
        "id": "KSPs8JKKS1Go"
      },
      "source": [
        "**嘗試使用GridSearchCV來協助調整參數**"
      ]
    },
    {
      "cell_type": "code",
      "execution_count": 123,
      "metadata": {
        "colab": {
          "base_uri": "https://localhost:8080/"
        },
        "id": "kyw8kF8OS23F",
        "outputId": "094e4b25-acec-407d-8b58-6d736c302299"
      },
      "outputs": [
        {
          "name": "stdout",
          "output_type": "stream",
          "text": [
            "Fitting 10 folds for each of 32 candidates, totalling 320 fits\n",
            "0.8564802082449143\n",
            "KNeighborsClassifier(leaf_size=15, n_neighbors=6)\n"
          ]
        }
      ],
      "source": [
        "from sklearn.model_selection import GridSearchCV\n",
        "train_x = df_train[['Sex','Pclass','FareBin_4','AgeBin_4','Family','Connected_Survival']]\n",
        "test_x = df_test[['Sex','Pclass','FareBin_4','AgeBin_4','Family','Connected_Survival']]\n",
        "\n",
        "n_neighbors = [3,4,5,6]\n",
        "weights = ['uniform', 'distance']\n",
        "leaf_size = list(range(10,30,5))\n",
        "hyperparams = {'weights': weights, 'leaf_size': leaf_size, \n",
        "               'n_neighbors': n_neighbors}\n",
        "gd = GridSearchCV(estimator = KNeighborsClassifier(), param_grid = hyperparams, \n",
        "          verbose=True, cv=10, scoring = \"roc_auc\")\n",
        "gd.fit(train_x, train_y)\n",
        "print(gd.best_score_)\n",
        "print(gd.best_estimator_)"
      ]
    },
    {
      "cell_type": "markdown",
      "metadata": {
        "id": "U_XvPLVqTQUt"
      },
      "source": [
        "**使用 ensemble 進行實驗**\n",
        "- 運用前面所做的5種模型投票，來實測結果"
      ]
    },
    {
      "cell_type": "code",
      "execution_count": 124,
      "metadata": {
        "colab": {
          "base_uri": "https://localhost:8080/"
        },
        "id": "1-C5TfUZTRHu",
        "outputId": "7a0f5a48-ed75-4d11-8834-c851fa722c38"
      },
      "outputs": [
        {
          "name": "stdout",
          "output_type": "stream",
          "text": [
            "Train accuracy: 0.8507\n",
            "Valid accuracy: 0.8358\n"
          ]
        }
      ],
      "source": [
        "from sklearn.ensemble import RandomForestClassifier, VotingClassifier\n",
        "from sklearn.neighbors import KNeighborsClassifier \n",
        "from sklearn.svm import SVC\n",
        "from sklearn.naive_bayes import GaussianNB\n",
        "from sklearn.linear_model import LogisticRegression\n",
        "\n",
        "train_x = df_train[['Sex', 'Pclass', 'FareBin_4', 'AgeBin_4', 'Family', 'Title', 'Connected_Survival']]\n",
        "\n",
        "clf1 = KNeighborsClassifier(n_neighbors=15)\n",
        "clf2 = RandomForestClassifier(n_estimators=99, random_state=seed)\n",
        "clf3 = GaussianNB()\n",
        "clf4 = SVC(kernel='rbf', random_state=seed)\n",
        "clf5 = LogisticRegression(penalty='l2')\n",
        "model = VotingClassifier(estimators=[('Knn', clf1), ('RF', clf2), ('NB', clf3), ('SVM_t', clf4), ('LR', clf5)], voting='hard')\n",
        "\n",
        "Vote = all_train(train_x, train_y, model)"
      ]
    },
    {
      "cell_type": "markdown",
      "metadata": {
        "id": "wfZl50dZToHd"
      },
      "source": [
        "**Overfitting**\n",
        "\n",
        "使用完全無相關性的特徵進行訓練，會發生overfitting的情形"
      ]
    },
    {
      "cell_type": "code",
      "execution_count": 125,
      "metadata": {
        "colab": {
          "base_uri": "https://localhost:8080/"
        },
        "id": "OPE6kfn6TnFJ",
        "outputId": "63bb884c-a9a7-497c-d4a6-bb31c51701b6"
      },
      "outputs": [
        {
          "name": "stdout",
          "output_type": "stream",
          "text": [
            "Train accuracy: 1.0\n",
            "Valid accuracy: 0.5672\n"
          ]
        }
      ],
      "source": [
        "Overfitting_x = df_train[['PassengerId']]          \n",
        "Overfitting = RandomForestClassifier(n_estimators=99, random_state=seed)\n",
        "Overfitting = all_train(Overfitting_x, train_y, Overfitting)"
      ]
    },
    {
      "cell_type": "markdown",
      "metadata": {
        "id": "MvDxzqXjTta2"
      },
      "source": [
        "**Underfitting**\n",
        "\n",
        "使用非常少且相關係數低的特徵進行訓練，選擇表現較差的模型、參數，會發生underfirtting的情形"
      ]
    },
    {
      "cell_type": "code",
      "execution_count": 126,
      "metadata": {
        "colab": {
          "base_uri": "https://localhost:8080/"
        },
        "id": "3ZD96RVyTtJD",
        "outputId": "6b47c857-360d-471e-d023-1cffc3e6c43b"
      },
      "outputs": [
        {
          "name": "stdout",
          "output_type": "stream",
          "text": [
            "Train accuracy: 0.565\n",
            "Valid accuracy: 0.5709\n"
          ]
        }
      ],
      "source": [
        "Underfitting_x = df_train[['Family','Age_sc']]                \n",
        "Underfitting = SVC(kernel='sigmoid')\n",
        "Underfitting = all_train(Underfitting_x, train_y, Underfitting)"
      ]
    },
    {
      "cell_type": "markdown",
      "metadata": {
        "id": "UG3kGgxDeg-_"
      },
      "source": [
        "## 加分題\n",
        "\n",
        "請將訓練後的模型套用至 [Kaggle Titanic](https://www.kaggle.com/c/titanic/overview) `test.csv` 上，並上傳至 Kaggle 進行評分，**截圖**後**嵌入**至 `markdown` 區塊中。"
      ]
    },
    {
      "cell_type": "markdown",
      "metadata": {
        "id": "NycSBO9WUjta"
      },
      "source": [
        "ANN模型\n",
        "- 送上Kaggle後準確度為80.62%"
      ]
    },
    {
      "cell_type": "code",
      "execution_count": 127,
      "metadata": {
        "id": "bwrLUBqEUm5H"
      },
      "outputs": [],
      "source": [
        "test_x = df_test[['Sex', 'Pclass', 'FareBin_4', 'AgeBin_4', 'Family', 'Title', 'Connected_Survival']]\n",
        "test_x = test_x.values\n",
        "ANN_pred = ANN.predict(test_x)\n",
        "ANN_pred = ANN_pred.flatten()\n",
        "\n",
        "submit = pd.DataFrame({\"PassengerId\": df_test['PassengerId'],\n",
        "             \"Survived\":ANN_pred.astype(int)})\n",
        "submit.to_csv(\"ANN_submit.csv\",index=False)"
      ]
    },
    {
      "cell_type": "markdown",
      "metadata": {
        "id": "8orBR5WaVRQm"
      },
      "source": [
        "Vote模型 (ensemble)\n",
        "  - 送上Kaggle後準確度只有77.51%\n",
        "  - 推測模型已經對train資料overfitting\n",
        "  - 或是Kaggle上的test資料答案有偏移"
      ]
    },
    {
      "cell_type": "code",
      "execution_count": 128,
      "metadata": {
        "id": "4aOo-KZgVQ-P"
      },
      "outputs": [],
      "source": [
        "test_x = df_test[['Sex', 'Pclass', 'FareBin_4', 'AgeBin_4', 'Family', 'Title', 'Connected_Survival']]\n",
        "\n",
        "vote_pred = Vote.predict(test_x)\n",
        "\n",
        "submit = pd.DataFrame({\"PassengerId\": df_test['PassengerId'],\n",
        "             \"Survived\":vote_pred.astype(int)})\n",
        "submit.to_csv(\"Vote_submit.csv\",index=False)"
      ]
    },
    {
      "cell_type": "markdown",
      "metadata": {
        "id": "EZdp1lpfVjrv"
      },
      "source": [
        "Knn模型\n",
        " - 送上Kaggle後準確度為81.82%，為三種模型裡面最優"
      ]
    },
    {
      "cell_type": "code",
      "execution_count": 129,
      "metadata": {
        "id": "9n2soPPEVjXc"
      },
      "outputs": [],
      "source": [
        "train_x = df_train[['Sex','Pclass','FareBin_4','AgeBin_4','Family','Connected_Survival']]\n",
        "test_x = df_test[['Sex','Pclass','FareBin_4','AgeBin_4','Family','Connected_Survival']]\n",
        "\n",
        "from sklearn.preprocessing import StandardScaler\n",
        "std_scaler = StandardScaler() #使用Knn模型故將資料做標準化\n",
        "train_x = std_scaler.fit_transform(train_x)\n",
        "test_x = std_scaler.transform(test_x)\n",
        "\n",
        "from sklearn.neighbors import KNeighborsClassifier\n",
        "knn = KNeighborsClassifier(n_neighbors=6, leaf_size=26)\n",
        "knn.fit(train_x, train_y)\n",
        "knn_pred = knn.predict(test_x)\n",
        "\n",
        "submit = pd.DataFrame({\"PassengerId\": df_test['PassengerId'],\n",
        "             \"Survived\":knn_pred.astype(int)})\n",
        "submit.to_csv(\"submit.csv\",index=False)"
      ]
    },
    {
      "cell_type": "markdown",
      "metadata": {
        "id": "mHcAX0wJX3EP"
      },
      "source": [
        "**送出submit.csv到Kaggle上評分後，獲得0.81578的分數，排名為193/14537 = Top1.3%**"
      ]
    },
    {
      "cell_type": "markdown",
      "metadata": {
        "id": "Sm9g5SMbXsZt"
      },
      "source": [
        "![788.PNG](data:image/png;base64,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)"
      ]
    },
    {
      "cell_type": "code",
      "execution_count": 130,
      "metadata": {
        "colab": {
          "base_uri": "https://localhost:8080/"
        },
        "id": "qffIo7EbW4TA",
        "outputId": "201dfd3f-5bc7-4692-a96d-1bf15dbe43f5"
      },
      "outputs": [
        {
          "name": "stdout",
          "output_type": "stream",
          "text": [
            "total execution time: 20.97902750968933\n"
          ]
        }
      ],
      "source": [
        "# 請勿更動此區塊程式碼\n",
        "\n",
        "EXECUTION_END_TIME = time.time() # 計算執行時間\n",
        "print('total execution time: {}'.format(EXECUTION_END_TIME - EXECUTION_START_TIME))"
      ]
    }
  ],
  "metadata": {
    "colab": {
      "collapsed_sections": [],
      "name": "main.ipynb",
      "provenance": []
    },
    "kernelspec": {
      "display_name": "Python 3.9.2 64-bit",
      "language": "python",
      "name": "python3"
    },
    "language_info": {
      "codemirror_mode": {
        "name": "ipython",
        "version": 3
      },
      "file_extension": ".py",
      "mimetype": "text/x-python",
      "name": "python",
      "nbconvert_exporter": "python",
      "pygments_lexer": "ipython3",
      "version": "3.9.2"
    },
    "vscode": {
      "interpreter": {
        "hash": "3079cf84ddeef1717e0d5c8c0b0e91db77c26009ffb0545a46bfcd77b190702a"
      }
    }
  },
  "nbformat": 4,
  "nbformat_minor": 0
}
